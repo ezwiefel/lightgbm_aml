{
 "cells": [
  {
   "cell_type": "markdown",
   "metadata": {},
   "source": [
    "# Running LightGBM Distributed using Generic Estimator and HyperDrive"
   ]
  },
  {
   "cell_type": "markdown",
   "metadata": {},
   "source": [
    "### 1. Get AML Objects\n",
    "\n",
    "Specifically retrieve these objects:\n",
    "1. Workspace `ws` \n",
    "1. Environment `lgbm_env` \n",
    "1. Compute Target `training_cluster` \n",
    "1. Validation Dataset `valid_ds` \n",
    "1. Training Dataset `train_ds` "
   ]
  },
  {
   "cell_type": "code",
   "execution_count": null,
   "metadata": {},
   "outputs": [],
   "source": [
    "from azureml.core import Workspace, Experiment, Dataset, Environment\n",
    "from azureml.train.estimator import Estimator, Mpi\n",
    "\n",
    "ws = Workspace.from_config()"
   ]
  },
  {
   "cell_type": "code",
   "execution_count": null,
   "metadata": {},
   "outputs": [],
   "source": [
    "ENVIRONMENT_NAME = 'lightgbm-cli'\n",
    "lgbm_env = Environment.get(ws, ENVIRONMENT_NAME)"
   ]
  },
  {
   "cell_type": "code",
   "execution_count": null,
   "metadata": {},
   "outputs": [],
   "source": [
    "training_cluster = ws.compute_targets['training-cluster']\n",
    "valid_ds = ws.datasets['renewal_test_csv']\n",
    "train_ds = ws.datasets['renewal_train_csv']"
   ]
  },
  {
   "cell_type": "code",
   "execution_count": null,
   "metadata": {},
   "outputs": [],
   "source": [
    "EXPERIMENT_NAME = 'lightgbm-parallel'\n",
    "HYPERDRIVE_RUN = False"
   ]
  },
  {
   "cell_type": "markdown",
   "metadata": {},
   "source": [
    "### 2. Creating Estimator object\n",
    "The estimator will run [`train.py`](../code/train.py) script. `train.py` will accept [any parameters that LightGBM accepts.](https://lightgbm.readthedocs.io/en/latest/Parameters.html) These will be passed to the command line tool and (if MPI is enabled) will be run in parallel."
   ]
  },
  {
   "cell_type": "code",
   "execution_count": null,
   "metadata": {},
   "outputs": [],
   "source": [
    "# Specify the number of nodes to run on\n",
    "n_nodes = 1\n",
    "\n",
    "LABEL_COLUMN_NAME = 'i_year1_renewal_flag'\n",
    "\n",
    "static_parameters = {\n",
    "    '--train_data': train_ds.as_named_input('train').as_mount(),\n",
    "    '--valid_data': valid_ds.as_named_input('valid').as_mount(),\n",
    "    '--task': 'train',\n",
    "    '--conf_file': 'train.conf',\n",
    "    '--metric': 'auc,binary_logloss,binary_error,mean_absolute_error',\n",
    "    '--num_machines': n_nodes,\n",
    "    '--label_column': f\"name:{LABEL_COLUMN_NAME}\",\n",
    "    '--num_iterations': 100,\n",
    "    '--tree-learner': 'voting'\n",
    "}\n",
    "\n",
    "lgbm_est = Estimator(source_directory='../code/',\n",
    "                     entry_script='train.py', \n",
    "                     script_params=static_parameters,\n",
    "                     compute_target=training_cluster,\n",
    "                     environment_definition=lgbm_env,\n",
    "                     distributed_training=None if n_nodes == 1 else Mpi(),\n",
    "                     node_count=n_nodes\n",
    "                     )"
   ]
  },
  {
   "cell_type": "markdown",
   "metadata": {},
   "source": [
    "### 3. Specifying Hyperdrive Settings\n",
    "As with the previous step, the train.py script will accept [any parameters that LightGBM accepts.](https://lightgbm.readthedocs.io/en/latest/Parameters.html) These will be passed to the command line tool and run in parallel.\n",
    "\n",
    "Here, some sample parameters that could be passed are shown. "
   ]
  },
  {
   "cell_type": "code",
   "execution_count": null,
   "metadata": {},
   "outputs": [],
   "source": [
    "from azureml.train.hyperdrive import HyperDriveConfig, choice, uniform, randint, RandomParameterSampling, BanditPolicy, PrimaryMetricGoal\n",
    "\n",
    "hyperdrive_params = RandomParameterSampling({\n",
    "    '--learning_rate': uniform(0.01, 2),\n",
    "    '--max_depth': choice(0,200,300,400),\n",
    "    '--boosting': choice('gbdt', 'rf', 'dart'),\n",
    "    '--bagging_freq': randint(10),\n",
    "    '--lambda_l1': uniform(0.01, 2),\n",
    "    '--lambda_l2':uniform(0.01, 2)\n",
    "})\n",
    "\n",
    "etp = BanditPolicy(evaluation_interval=5, slack_factor=0.1, delay_evaluation=10)\n",
    "\n",
    "hd_runconfig = HyperDriveConfig(estimator=lgbm_est, \n",
    "                                   hyperparameter_sampling=hyperdrive_params, \n",
    "                                   primary_metric_name='validation_auc', \n",
    "                                   primary_metric_goal=PrimaryMetricGoal.MAXIMIZE, \n",
    "                                   max_total_runs=20,\n",
    "                                   policy=etp,\n",
    "                                   max_concurrent_runs=2)"
   ]
  },
  {
   "cell_type": "code",
   "execution_count": null,
   "metadata": {},
   "outputs": [],
   "source": [
    "experiment = Experiment(ws, EXPERIMENT_NAME)\n",
    "run = experiment.submit(hd_runconfig if HYPERDRIVE_RUN else lgbm_est)"
   ]
  },
  {
   "cell_type": "code",
   "execution_count": null,
   "metadata": {},
   "outputs": [],
   "source": [
    "from azureml.widgets import RunDetails\n",
    "RunDetails(run).show()"
   ]
  },
  {
   "cell_type": "code",
   "execution_count": null,
   "metadata": {},
   "outputs": [],
   "source": [
    "run.wait_for_completion(show_output=True)"
   ]
  },
  {
   "cell_type": "code",
   "execution_count": null,
   "metadata": {},
   "outputs": [],
   "source": []
  },
  {
   "cell_type": "markdown",
   "metadata": {},
   "source": [
    "<br><br><br><br><br><br>\n",
    "###### Copyright (c) 2020 Microsoft\n",
    "\n",
    "###### This software is released under the MIT License.\n",
    "###### https://opensource.org/licenses/MIT"
   ]
  }
 ],
 "metadata": {
  "kernelspec": {
   "display_name": "Python 3.6 - AzureML",
   "language": "python",
   "name": "python3-azureml"
  },
  "language_info": {
   "codemirror_mode": {
    "name": "ipython",
    "version": 3
   },
   "file_extension": ".py",
   "mimetype": "text/x-python",
   "name": "python",
   "nbconvert_exporter": "python",
   "pygments_lexer": "ipython3",
   "version": "3.6.9"
  }
 },
 "nbformat": 4,
 "nbformat_minor": 4
}
