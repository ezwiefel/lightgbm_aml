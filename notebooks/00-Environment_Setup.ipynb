{
 "cells": [
  {
   "cell_type": "markdown",
   "metadata": {},
   "source": [
    "# Creating AML Environment\n",
    "Before we get started in building out the training script, we want to create an AML environment. This will ensure we have a consistent training environment to help get repeatable code."
   ]
  },
  {
   "cell_type": "code",
   "execution_count": null,
   "metadata": {},
   "outputs": [],
   "source": [
    "from azureml.core import Workspace, Environment\n",
    "\n",
    "ws = Workspace.from_config()"
   ]
  },
  {
   "cell_type": "markdown",
   "metadata": {},
   "source": [
    "#### 1. Create Static Variables\n",
    "* Read DockerFile to string\n",
    "* Set CONDA_PACKAGES\n",
    "* Set PIP_PACKAGES\n",
    "* Set PYTHON_VERSION"
   ]
  },
  {
   "cell_type": "code",
   "execution_count": null,
   "metadata": {},
   "outputs": [],
   "source": [
    "ENVIRONMENT_NAME = 'lightgbm-cli'\n",
    "\n",
    "CONDA_PACKAGES = []\n",
    "PIP_PACKAGES = ['click==7.1.1', 'azureml-defaults==1.2.0']\n",
    "PYTHON_VERSION = '3.7.7'"
   ]
  },
  {
   "cell_type": "code",
   "execution_count": null,
   "metadata": {},
   "outputs": [],
   "source": [
    "# Read in the text of the Dockerfile\n",
    "with open('../Dockerfile', 'r') as fo:\n",
    "    DOCKERFILE = fo.read()\n",
    "\n",
    "print(DOCKERFILE)"
   ]
  },
  {
   "cell_type": "markdown",
   "metadata": {},
   "source": [
    "#### 2. Create an AML Environment object and overwrite the subsections"
   ]
  },
  {
   "cell_type": "code",
   "execution_count": null,
   "metadata": {},
   "outputs": [],
   "source": [
    "lgbm_env = Environment(ENVIRONMENT_NAME)"
   ]
  },
  {
   "cell_type": "markdown",
   "metadata": {},
   "source": [
    "##### 2.1 Python Settings"
   ]
  },
  {
   "cell_type": "code",
   "execution_count": null,
   "metadata": {},
   "outputs": [],
   "source": [
    "from azureml.core.environment import CondaDependencies\n",
    "\n",
    "lgbm_env.python.conda_dependencies = CondaDependencies.create(python_version=PYTHON_VERSION, \n",
    "                                                              conda_packages=CONDA_PACKAGES, \n",
    "                                                              pip_packages=PIP_PACKAGES)"
   ]
  },
  {
   "cell_type": "markdown",
   "metadata": {},
   "source": [
    "##### 2.2 Docker Settings"
   ]
  },
  {
   "cell_type": "code",
   "execution_count": null,
   "metadata": {},
   "outputs": [],
   "source": [
    "# Set Docker to be enabled by default\n",
    "lgbm_env.docker.enabled = True\n",
    "\n",
    "# baseImage and baseDockerfile are mutually exclusive\n",
    "lgbm_env.docker.base_image = None\n",
    "lgbm_env.docker.base_dockerfile = DOCKERFILE"
   ]
  },
  {
   "cell_type": "code",
   "execution_count": null,
   "metadata": {},
   "outputs": [],
   "source": [
    "lgbm_env"
   ]
  },
  {
   "cell_type": "markdown",
   "metadata": {},
   "source": [
    "#### 3. Register the environment to the workspace"
   ]
  },
  {
   "cell_type": "code",
   "execution_count": null,
   "metadata": {},
   "outputs": [],
   "source": [
    "lgbm_env = lgbm_env.register(ws)"
   ]
  },
  {
   "cell_type": "markdown",
   "metadata": {},
   "source": [
    "#### 4. Build the container\n",
    "This isn't strictly required at this point. If you don't explicitly build the container now, it will be built upon first invocation. I tend to explicitly build the containers to (a) speed up the first training submission and (b) to seperate failures from my environment from failures in my code.\n",
    "\n",
    "The `build()` command _doesn't require Docker to be installed locally_, instead, this build is being done by the Azure Container Registry."
   ]
  },
  {
   "cell_type": "code",
   "execution_count": null,
   "metadata": {
    "scrolled": true
   },
   "outputs": [],
   "source": [
    "build_status = lgbm_env.build(ws)\n",
    "build_status.wait_for_completion(show_output=True)"
   ]
  },
  {
   "cell_type": "markdown",
   "metadata": {},
   "source": [
    "#### 5. Check the container is built and saved in the Azure Container Registry\n",
    "If you see `'imageExistsInRegistry': True` in the `get_image_details()` call, then your container is stored in the registry and should be pulled from there upon job submission"
   ]
  },
  {
   "cell_type": "code",
   "execution_count": null,
   "metadata": {},
   "outputs": [],
   "source": [
    "import pprint\n",
    "pp = pprint.PrettyPrinter(depth=5)\n",
    "pp.pprint(lgbm_env.get_image_details(ws))"
   ]
  },
  {
   "cell_type": "code",
   "execution_count": null,
   "metadata": {},
   "outputs": [],
   "source": []
  },
  {
   "cell_type": "markdown",
   "metadata": {},
   "source": [
    "<br><br><br><br><br><br>\n",
    "###### Copyright (c) 2020 Microsoft\n",
    "\n",
    "###### This software is released under the MIT License.\n",
    "###### https://opensource.org/licenses/MIT"
   ]
  }
 ],
 "metadata": {
  "kernelspec": {
   "display_name": "Python 3.6 - AzureML",
   "language": "python",
   "name": "python3-azureml"
  },
  "language_info": {
   "codemirror_mode": {
    "name": "ipython",
    "version": 3
   },
   "file_extension": ".py",
   "mimetype": "text/x-python",
   "name": "python",
   "nbconvert_exporter": "python",
   "pygments_lexer": "ipython3",
   "version": "3.6.9"
  }
 },
 "nbformat": 4,
 "nbformat_minor": 4
}
