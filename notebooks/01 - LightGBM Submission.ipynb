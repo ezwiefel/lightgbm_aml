{
 "cells": [
  {
   "cell_type": "code",
   "execution_count": 40,
   "metadata": {},
   "outputs": [],
   "source": [
    "from azureml.core import Workspace, Experiment, Dataset\n",
    "from azureml.train.estimator import Estimator\n",
    "\n",
    "ws = Workspace.from_config()"
   ]
  },
  {
   "cell_type": "code",
   "execution_count": 2,
   "metadata": {},
   "outputs": [],
   "source": [
    "ENVIRONMENT_NAME = 'lightgbm-cli'\n",
    "lgbm_env = ws.environments[ENVIRONMENT_NAME]"
   ]
  },
  {
   "cell_type": "code",
   "execution_count": 57,
   "metadata": {},
   "outputs": [],
   "source": [
    "training_cluster = ws.compute_targets['training-cluster']\n",
    "valid_ds = ws.datasets['renewal_test_csv']\n",
    "train_ds = ws.datasets['renewal_train_csv']"
   ]
  },
  {
   "cell_type": "code",
   "execution_count": 31,
   "metadata": {},
   "outputs": [
    {
     "name": "stdout",
     "output_type": "stream",
     "text": [
      "docker run -it -v /tmp/tmpf98z_47m:/train -v /tmp/tmp8vby3qpx:/valid -v $(pwd):/lgbm amlcontainer /bin/bash\n"
     ]
    }
   ],
   "source": [
    "print(f'docker run -it -v {train_context.mount_point}:/train -v {valid_context.mount_point}:/valid -v $(pwd):/lgbm amlcontainer /bin/bash')\n",
    "\n",
    "# print(valid_context.mount_point)\n",
    "# print(train_context.mount_point)"
   ]
  },
  {
   "cell_type": "code",
   "execution_count": 58,
   "metadata": {},
   "outputs": [],
   "source": [
    "parameters = {\n",
    "    '--train_data_directory': train_ds.as_named_input('train').as_mount(),\n",
    "    '--valid_data_directory': valid_ds.as_named_input('valid').as_mount(),\n",
    "    '--task': 'train',\n",
    "    '--conf_file': 'train.conf'\n",
    "}\n",
    "\n",
    "lgbm_est = Estimator(source_directory='../code/',\n",
    "                     entry_script='train.py', \n",
    "                     script_params=parameters,\n",
    "                     compute_target=training_cluster,\n",
    "                     environment_definition=lgbm_env\n",
    "                     )"
   ]
  },
  {
   "cell_type": "code",
   "execution_count": 59,
   "metadata": {},
   "outputs": [],
   "source": [
    "experiment = Experiment(ws, 'lightgbm-parallel')\n",
    "run = experiment.submit(lgbm_est)"
   ]
  },
  {
   "cell_type": "code",
   "execution_count": null,
   "metadata": {},
   "outputs": [
    {
     "name": "stdout",
     "output_type": "stream",
     "text": [
      "RunId: lightgbm-parallel_1586296032_0af44de8\n",
      "Web View: https://ml.azure.com/experiments/lightgbm-parallel/runs/lightgbm-parallel_1586296032_0af44de8?wsid=/subscriptions/dcdc374c-3ce4-4e43-92ad-10070b3b2941/resourcegroups/smart-assistant-ds/workspaces/smart-assistant-ws\n"
     ]
    }
   ],
   "source": [
    "run.wait_for_completion(show_output=True)"
   ]
  },
  {
   "cell_type": "code",
   "execution_count": null,
   "metadata": {},
   "outputs": [],
   "source": []
  }
 ],
 "metadata": {
  "kernelspec": {
   "display_name": "Python 3.6 - AzureML",
   "language": "python",
   "name": "python3-azureml"
  },
  "language_info": {
   "codemirror_mode": {
    "name": "ipython",
    "version": 3
   },
   "file_extension": ".py",
   "mimetype": "text/x-python",
   "name": "python",
   "nbconvert_exporter": "python",
   "pygments_lexer": "ipython3",
   "version": "3.6.9"
  }
 },
 "nbformat": 4,
 "nbformat_minor": 4
}
